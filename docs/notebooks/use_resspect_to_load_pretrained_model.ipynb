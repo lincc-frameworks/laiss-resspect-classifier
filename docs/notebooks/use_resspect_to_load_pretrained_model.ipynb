{
 "cells": [
  {
   "cell_type": "markdown",
   "metadata": {},
   "source": [
    "# Use the RESSPECT plugin machinery directly to fetch and instantiate a laiss-resspect classifier instance"
   ]
  },
  {
   "cell_type": "code",
   "execution_count": null,
   "metadata": {},
   "outputs": [],
   "source": [
    "from resspect.plugin_utils import fetch_classifier_class\n",
    "\n",
    "laiss_classifier = fetch_classifier_class('laiss_resspect_classifier.laiss_classifier.LaissRandomForest')\n",
    "lc = laiss_classifier()"
   ]
  },
  {
   "cell_type": "markdown",
   "metadata": {},
   "source": [
    "Load a pre-trained model"
   ]
  },
  {
   "cell_type": "code",
   "execution_count": null,
   "metadata": {},
   "outputs": [],
   "source": [
    "pretrained_path = './pretrained_laiss_rf.pkl'\n",
    "lc.load_classifier(pretrained_path)"
   ]
  },
  {
   "cell_type": "markdown",
   "metadata": {},
   "source": [
    "Load a data set of pre-calculated/previously extracted features."
   ]
  },
  {
   "cell_type": "code",
   "execution_count": null,
   "metadata": {},
   "outputs": [],
   "source": [
    "import pandas as pd\n",
    "\n",
    "testing_file = './agn_features.csv'\n",
    "testing_data = pd.read_csv(testing_file)"
   ]
  },
  {
   "cell_type": "markdown",
   "metadata": {},
   "source": [
    "Use the pre-trained model to predict classes of the entries in the dataset"
   ]
  },
  {
   "cell_type": "code",
   "execution_count": null,
   "metadata": {},
   "outputs": [],
   "source": [
    "features = lc.classifier.feature_names_in_\n",
    "lc.predict(testing_data[features])"
   ]
  }
 ],
 "metadata": {
  "kernelspec": {
   "display_name": "laiss_resspect",
   "language": "python",
   "name": "python3"
  },
  "language_info": {
   "codemirror_mode": {
    "name": "ipython",
    "version": 3
   },
   "file_extension": ".py",
   "mimetype": "text/x-python",
   "name": "python",
   "nbconvert_exporter": "python",
   "pygments_lexer": "ipython3",
   "version": "3.11.10"
  }
 },
 "nbformat": 4,
 "nbformat_minor": 2
}
