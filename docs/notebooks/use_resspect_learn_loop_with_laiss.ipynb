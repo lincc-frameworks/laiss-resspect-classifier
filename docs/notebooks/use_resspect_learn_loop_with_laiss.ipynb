{
 "cells": [
  {
   "cell_type": "markdown",
   "metadata": {},
   "source": [
    "# Attempt to run `learn_loop` to predict classes in the dataset"
   ]
  },
  {
   "cell_type": "code",
   "execution_count": null,
   "metadata": {},
   "outputs": [],
   "source": [
    "from resspect.learn_loop import learn_loop\n",
    "from resspect.loop_configuration import LoopConfiguration\n"
   ]
  },
  {
   "cell_type": "code",
   "execution_count": null,
   "metadata": {},
   "outputs": [],
   "source": [
    "loop_config = LoopConfiguration(\n",
    "    nloops=1,\n",
    "    strategy='RandomSampling',\n",
    "    classifier='laiss_resspect_classifier.laiss_classifier.LaissRandomForest',\n",
    "    features_method='laiss_resspect_classifier.laiss_feature_extractor.LaissFeatureExtractor',\n",
    "    path_to_features='./agn_features.csv',\n",
    "    output_metrics_file='todo', #! Don't know what this should be\n",
    "    output_queried_file='todo', #! Don't know what this should be\n",
    "    classifier_bootstrap=False,\n",
    "    save_predictions=False,\n",
    "    survey='ZTF',\n",
    "    pretrained_model_path='./pretrained_laiss_rf.pkl',\n",
    ")\n",
    "\n",
    "# learn_loop(loop_config)"
   ]
  },
  {
   "cell_type": "code",
   "execution_count": null,
   "metadata": {},
   "outputs": [],
   "source": []
  }
 ],
 "metadata": {
  "kernelspec": {
   "display_name": "laiss_resspect",
   "language": "python",
   "name": "python3"
  },
  "language_info": {
   "codemirror_mode": {
    "name": "ipython",
    "version": 3
   },
   "file_extension": ".py",
   "mimetype": "text/x-python",
   "name": "python",
   "nbconvert_exporter": "python",
   "pygments_lexer": "ipython3",
   "version": "3.11.10"
  }
 },
 "nbformat": 4,
 "nbformat_minor": 2
}
